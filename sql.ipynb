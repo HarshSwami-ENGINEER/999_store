import mysql.connector
from mysql.connector import Error
import pandas as pd


def create_server_connection(host_name, user_name, user_password):
    connection = None
    try:
        connection = mysql.connector.connect(
            host = host_name,
            user = user_name,
            password = user_password
        )
        print("MySQL Database Connection Successful")
    except Error as err:
        print(f"Error:'{err}'")
    return connection

psd = "Arjun$123"
db = "99retailstore-data"
connection = create_server_connection("localhost","root",psd)r


conn = mysql.connector.connect(user='root', password='Arjun$123',port=3306, host='127.0.0.1',database='retailstore',
auth_plugin='mysql_native_password')


# Execute SQL queries

def execute_query(Connection, query):
    '''
    summary :
        params
        return
    '''
    cursor = connection.cursor()
    try:
        cursor.execute(query)
        connection.commit()
        print("\n Query was successful ")
    except Error as er:
        print(f"Error:'{er}'")



# Get a cursor
mycursor = conn.cursor()

# Execute a SQL query to show all the tables in the database
mycursor.execute("SHOW TABLES")

# Fetch all the tables
tables = mycursor.fetchall()

# Print the tables
for table in tables:
  print(table)



# Execute a SQL query to select data from a table
mycursor.execute("SELECT * FROM table_name")

# Fetch all the rows
rows = mycursor.fetchall

# Print the rows
for row in rows:
  print(row)
