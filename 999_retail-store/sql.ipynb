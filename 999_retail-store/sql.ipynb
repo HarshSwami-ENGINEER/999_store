{
 "cells": [
  {
   "cell_type": "code",
   "execution_count": null,
   "metadata": {
    "vscode": {
     "languageId": "plaintext"
    }
   },
   "outputs": [],
   "source": [
    "# Execute a SQL query to select data from a table\n",
    "mycursor.execute(\"SELECT * FROM table_name\")\n",
    "\n",
    "# Fetch all the rows\n",
    "rows = mycursor.fetchall\n",
    "\n",
    "# Print the rows\n",
    "for row in rows:\n",
    "  print(row)"
   ]
  },
  {
   "cell_type": "code",
   "execution_count": null,
   "metadata": {
    "vscode": {
     "languageId": "plaintext"
    }
   },
   "outputs": [],
   "source": [
    "# Get a cursor\n",
    "mycursor = conn.cursor()\n",
    "\n",
    "# Execute a SQL query to show all the tables in the database\n",
    "mycursor.execute(\"SHOW TABLES\")\n",
    "\n",
    "# Fetch all the tables\n",
    "tables = mycursor.fetchall()\n",
    "\n",
    "# Print the tables\n",
    "for table in tables:\n",
    "  print(table)"
   ]
  },
  {
   "cell_type": "code",
   "execution_count": null,
   "metadata": {
    "vscode": {
     "languageId": "plaintext"
    }
   },
   "outputs": [],
   "source": [
    "conn = mysql.connector.connect(user='root', password='Arjun$123',port=3306, host='127.0.0.1',database='retailstore',\n",
    "auth_plugin='mysql_native_password')"
   ]
  },
  {
   "cell_type": "code",
   "execution_count": null,
   "metadata": {
    "vscode": {
     "languageId": "plaintext"
    }
   },
   "outputs": [],
   "source": [
    "def create_server_connection(host_name, user_name, user_password):\n",
    "    connection = None\n",
    "    try:\n",
    "        connection = mysql.connector.connect(\n",
    "            host = host_name,\n",
    "            user = user_name,\n",
    "            password = user_password\n",
    "        )\n",
    "        print(\"MySQL Database Connection Successful\")\n",
    "    except Error as err:\n",
    "        print(f\"Error:'{err}'\")\n",
    "    return connection\n",
    "\n",
    "psd = \"Arjun$123\"\n",
    "db = \"99retailstore-data\"\n",
    "connection = create_server_connection(\"localhost\",\"root\",psd)r"
   ]
  },
  {
   "cell_type": "code",
   "execution_count": null,
   "metadata": {
    "vscode": {
     "languageId": "plaintext"
    }
   },
   "outputs": [],
   "source": [
    "import mysql.connector\n",
    "from mysql.connector import Error\n",
    "import pandas as pd"
   ]
  }
 ],
 "metadata": {
  "language_info": {
   "name": "python"
  }
 },
 "nbformat": 4,
 "nbformat_minor": 2
}
